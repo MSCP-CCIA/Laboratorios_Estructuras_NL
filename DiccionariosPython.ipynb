{
  "nbformat": 4,
  "nbformat_minor": 0,
  "metadata": {
    "colab": {
      "provenance": [],
      "authorship_tag": "ABX9TyPrAvC6wq56FPzDcoZSKJVx",
      "include_colab_link": true
    },
    "kernelspec": {
      "name": "python3",
      "display_name": "Python 3"
    },
    "language_info": {
      "name": "python"
    }
  },
  "cells": [
    {
      "cell_type": "markdown",
      "metadata": {
        "id": "view-in-github",
        "colab_type": "text"
      },
      "source": [
        "<a href=\"https://colab.research.google.com/github/MSCP-CCIA/Laboratorios_Estructuras_NL/blob/main/DiccionariosPython.ipynb\" target=\"_parent\"><img src=\"https://colab.research.google.com/assets/colab-badge.svg\" alt=\"Open In Colab\"/></a>"
      ]
    },
    {
      "cell_type": "code",
      "execution_count": 2,
      "metadata": {
        "colab": {
          "base_uri": "https://localhost:8080/"
        },
        "id": "jVB81rIUChex",
        "outputId": "0cf10f8a-8846-4690-cb16-9f996fd5eb87"
      },
      "outputs": [
        {
          "output_type": "stream",
          "name": "stdout",
          "text": [
            "tierra\n"
          ]
        }
      ],
      "source": [
        "dictPolEsp = {\n",
        "    \"kwiat\" : \"flor\",\n",
        "    \"woda\" : \"agua\",\n",
        "    \"gleba\" : \"tierra\"\n",
        "}\n",
        "elemento1 = dictPolEsp[\"gleba\"]\n",
        "print(elemento1)"
      ]
    },
    {
      "cell_type": "code",
      "source": [
        "elemento2 = dictPolEsp.get(\"wooda\")\n",
        "print(elemento2)"
      ],
      "metadata": {
        "colab": {
          "base_uri": "https://localhost:8080/"
        },
        "id": "zGOTwovAFTX8",
        "outputId": "be6b05dd-a9b8-4b05-fd21-2cf87ed040a2"
      },
      "execution_count": 3,
      "outputs": [
        {
          "output_type": "stream",
          "name": "stdout",
          "text": [
            "None\n"
          ]
        }
      ]
    },
    {
      "cell_type": "code",
      "source": [
        "dictEspañolFrances = {\n",
        "    \"gato\" : \"chat\",\n",
        "    \"perro\" : \"chien\",\n",
        "    \"caballo\" : \"cheval\"\n",
        "}\n",
        "words = ['gato','leon','caballo']\n",
        "for _ in words:\n",
        "  if _ in dictEspañolFrances:\n",
        "    print(_, \" -> \", dictEspañolFrances[_])\n",
        "  else:\n",
        "    print(_, \"no esta en ele diccionario\")\n"
      ],
      "metadata": {
        "colab": {
          "base_uri": "https://localhost:8080/"
        },
        "id": "iTxX6XqlFdZ0",
        "outputId": "176a31a0-85cf-47b0-9054-e939634bf9ae"
      },
      "execution_count": 6,
      "outputs": [
        {
          "output_type": "stream",
          "name": "stdout",
          "text": [
            "gato  ->  chat\n",
            "leon no esta en ele diccionario\n",
            "caballo  ->  cheval\n"
          ]
        }
      ]
    },
    {
      "cell_type": "code",
      "source": [
        "for _ in dictEspañolFrances.keys():\n",
        "  print( _ , dictEspañolFrances[ _ ])"
      ],
      "metadata": {
        "colab": {
          "base_uri": "https://localhost:8080/"
        },
        "id": "PsvhyUOrGg71",
        "outputId": "1c35e297-4758-47a9-daa5-d4a6195ebf0c"
      },
      "execution_count": 7,
      "outputs": [
        {
          "output_type": "stream",
          "name": "stdout",
          "text": [
            "gato chat\n",
            "perro chien\n",
            "caballo cheval\n"
          ]
        }
      ]
    },
    {
      "cell_type": "code",
      "source": [
        "for spanish, french in dictEspañolFrances.items():\n",
        "  print(spanish, \" -> \", french)"
      ],
      "metadata": {
        "colab": {
          "base_uri": "https://localhost:8080/"
        },
        "id": "5cGzjjLNHy-X",
        "outputId": "af1f28af-e7a4-4423-c3d0-c090e0694e5c"
      },
      "execution_count": 8,
      "outputs": [
        {
          "output_type": "stream",
          "name": "stdout",
          "text": [
            "gato  ->  chat\n",
            "perro  ->  chien\n",
            "caballo  ->  cheval\n"
          ]
        }
      ]
    }
  ]
}