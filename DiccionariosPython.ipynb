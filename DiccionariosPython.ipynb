{
  "nbformat": 4,
  "nbformat_minor": 0,
  "metadata": {
    "colab": {
      "provenance": [],
      "authorship_tag": "ABX9TyP3CHg0yTus1AOt/14yFCjC",
      "include_colab_link": true
    },
    "kernelspec": {
      "name": "python3",
      "display_name": "Python 3"
    },
    "language_info": {
      "name": "python"
    }
  },
  "cells": [
    {
      "cell_type": "markdown",
      "metadata": {
        "id": "view-in-github",
        "colab_type": "text"
      },
      "source": [
        "<a href=\"https://colab.research.google.com/github/MSCP-CCIA/Laboratorios_Estructuras_NL/blob/main/DiccionariosPython.ipynb\" target=\"_parent\"><img src=\"https://colab.research.google.com/assets/colab-badge.svg\" alt=\"Open In Colab\"/></a>"
      ]
    },
    {
      "cell_type": "code",
      "execution_count": 2,
      "metadata": {
        "colab": {
          "base_uri": "https://localhost:8080/"
        },
        "id": "jVB81rIUChex",
        "outputId": "0cf10f8a-8846-4690-cb16-9f996fd5eb87"
      },
      "outputs": [
        {
          "output_type": "stream",
          "name": "stdout",
          "text": [
            "tierra\n"
          ]
        }
      ],
      "source": [
        "dictPolEsp = {\n",
        "    \"kwiat\" : \"flor\",\n",
        "    \"woda\" : \"agua\",\n",
        "    \"gleba\" : \"tierra\"\n",
        "}\n",
        "elemento1 = dictPolEsp[\"gleba\"]\n",
        "print(elemento1)"
      ]
    }
  ]
}